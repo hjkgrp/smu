{
 "cells": [
  {
   "cell_type": "code",
   "execution_count": 78,
   "metadata": {},
   "outputs": [
    {
     "name": "stdout",
     "output_type": "stream",
     "text": [
      "['asd_slot_123_asd.in\\n', 'asd_slot_666_asd.in\\n', 'asd_slot_1000_asd.in']\n"
     ]
    }
   ],
   "source": [
    "import sys\n",
    "import csv\n",
    "\n",
    "# sys.argv[1] = 'ebi.txt'\n",
    "filename = sys.argv[1]\n",
    "\n",
    "dat = open(filename, \"rw+\").readlines()\n",
    "\n",
    "popList = [ 72,  73,  74,  75,  76,  77,  78,  79, 192, 193, 194, 195, 196, 197, 198, 199, 1000]\n",
    "newList = []\n",
    "\n",
    "for line in dat:\n",
    "    p = int(line.split('_')[2]) # 3 for gen_0_slot_120_0_2_35_35_35_20_5.in,1\n",
    "    if not(p in popList): \n",
    "        newList.append(line)\n",
    "\n",
    "with open(\"new_\"+filename,'wb') as resultFile:\n",
    "    for item in newList:\n",
    "        resultFile.write(\"%s\" % item)"
   ]
  }
 ],
 "metadata": {
  "kernelspec": {
   "display_name": "Python [conda env:smu]",
   "language": "python",
   "name": "conda-env-smu-py"
  },
  "language_info": {
   "codemirror_mode": {
    "name": "ipython",
    "version": 2
   },
   "file_extension": ".py",
   "mimetype": "text/x-python",
   "name": "python",
   "nbconvert_exporter": "python",
   "pygments_lexer": "ipython2",
   "version": "2.7.14"
  }
 },
 "nbformat": 4,
 "nbformat_minor": 2
}
