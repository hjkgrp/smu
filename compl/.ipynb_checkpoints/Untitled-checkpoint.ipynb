{
 "cells": [
  {
   "cell_type": "code",
   "execution_count": 16,
   "metadata": {},
   "outputs": [],
   "source": [
    "import pickle as p\n",
    "import numpy as np\n",
    "from scipy import sparse"
   ]
  },
  {
   "cell_type": "code",
   "execution_count": 242,
   "metadata": {},
   "outputs": [],
   "source": [
    "def loadSet():\n",
    "    path = '../enum/fiveonesymProj.p'\n",
    "#     path = '../enum/strongsymProj.p'\n",
    "    pickleSet = p.load( open(path, \"rb\" ))\n",
    "    A = pickleSet.tocsr()\n",
    "    print('Shape of loaded:' + str(np.shape(A)))\n",
    "    print('---')\n",
    "    return A"
   ]
  },
  {
   "cell_type": "code",
   "execution_count": 243,
   "metadata": {},
   "outputs": [],
   "source": [
    "def loadWorkingParents():\n",
    "    workingParents = []\n",
    "    with open('zeroLigandsNeutral.txt','r') as f:\n",
    "        dat = f.readlines()\n",
    "        for lines in dat:\n",
    "            workingParents.append(int(lines.split(' ')[0]))\n",
    "    return workingParents"
   ]
  },
  {
   "cell_type": "code",
   "execution_count": 244,
   "metadata": {},
   "outputs": [
    {
     "name": "stdout",
     "output_type": "stream",
     "text": [
      "Shape of loaded:(163620, 405)\n",
      "---\n",
      "Converged Parent Ligands: \n",
      "[9, 31, 163, 30, 161, 33, 150, 238, 166, 307, 179, 136, 323, 14, 293, 245, 153, 157, 232, 237, 26, 295, 310, 300, 243, 175, 92, 46, 314, 94, 36, 35, 144, 247, 143, 301, 93, 224, 91, 149, 381, 138, 306, 388, 95, 10, 50, 316, 68, 171, 103, 51, 107, 394, 389, 383, 37, 66, 241, 84, 32, 34, 73, 28, 194, 328, 400, 260, 332, 79, 264, 395, 402, 76, 176, 47, 398, 70, 155, 231]\n"
     ]
    }
   ],
   "source": [
    "A = loadSet()\n",
    "            \n",
    "workingParents = loadWorkingParents()\n",
    "print('Converged Parent Ligands: ')\n",
    "print(workingParents)"
   ]
  },
  {
   "cell_type": "code",
   "execution_count": 249,
   "metadata": {
    "scrolled": false
   },
   "outputs": [],
   "source": [
    "eq_idx = int()\n",
    "eq_idx_list = list()\n",
    "childrenComplexes = list()\n",
    "\n",
    "for i in range(0,163620): #21756,245315-59940+1\n",
    "    # ss:\n",
    "    # [0,21756)             : bident ac\n",
    "    # [21756,245315-59940)  : monodent only\n",
    "    # [245315-59940,245316] : bident dc (aka mixed)\n",
    "    if A.getrow(i).data[1] == 5: # this means it is the eq lig\n",
    "        eq_idx = A.getrow(i).indices[1]\n",
    "    elif A.getrow(i).data[0] == 5:\n",
    "        eq_idx = A.getrow(i).indices[0]\n",
    "        \n",
    "    if eq_idx in workingParents:    \n",
    "        childrenComplexes.append(i)   \n",
    "                \n",
    "    eq_idx_list.append(eq_idx)"
   ]
  },
  {
   "cell_type": "code",
   "execution_count": 250,
   "metadata": {
    "scrolled": true
   },
   "outputs": [
    {
     "data": {
      "text/plain": [
       "32320"
      ]
     },
     "execution_count": 250,
     "metadata": {},
     "output_type": "execute_result"
    }
   ],
   "source": [
    "len(childrenComplexes)\n",
    "\n",
    "# ft: 26696\n",
    "# ss: 18180\n",
    "# fo: 32320"
   ]
  }
 ],
 "metadata": {
  "kernelspec": {
   "display_name": "Python 3",
   "language": "python",
   "name": "python3"
  },
  "language_info": {
   "codemirror_mode": {
    "name": "ipython",
    "version": 3
   },
   "file_extension": ".py",
   "mimetype": "text/x-python",
   "name": "python",
   "nbconvert_exporter": "python",
   "pygments_lexer": "ipython3",
   "version": "3.6.4"
  }
 },
 "nbformat": 4,
 "nbformat_minor": 2
}
