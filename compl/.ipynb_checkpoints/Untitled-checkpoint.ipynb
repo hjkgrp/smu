{
 "cells": [
  {
   "cell_type": "code",
   "execution_count": 16,
   "metadata": {},
   "outputs": [],
   "source": [
    "import pickle as p\n",
    "import numpy as np\n",
    "from scipy import sparse"
   ]
  },
  {
   "cell_type": "code",
   "execution_count": 74,
   "metadata": {},
   "outputs": [],
   "source": [
    "def loadSet():\n",
    "    path = '../enum/strongsymProj.p'\n",
    "    pickleSet = p.load( open(path, \"rb\" ))\n",
    "    A = pickleSet.tocsr()\n",
    "    print('Shape of loaded:' + str(np.shape(A)))\n",
    "    print('---')\n",
    "    return A"
   ]
  },
  {
   "cell_type": "code",
   "execution_count": 46,
   "metadata": {},
   "outputs": [],
   "source": [
    "def loadWorkingParents():\n",
    "    workingParents = []\n",
    "    with open('zeroLigandsNeutral.txt','r') as f:\n",
    "        dat = f.readlines()\n",
    "        for lines in dat:\n",
    "            workingParents.append(int(lines.split(' ')[0]))\n",
    "    return workingParents"
   ]
  },
  {
   "cell_type": "code",
   "execution_count": 97,
   "metadata": {},
   "outputs": [
    {
     "name": "stdout",
     "output_type": "stream",
     "text": [
      "Shape of loaded:(245316, 553)\n",
      "---\n",
      "[9, 31, 163, 30, 161, 33, 150, 238, 166, 307, 179, 136, 323, 14, 293, 245, 153, 157, 232, 237, 26, 295, 310, 300, 243, 175, 92, 46, 314, 94, 36, 35, 144, 247, 143, 301, 93, 224, 91, 149, 381, 138, 306, 388, 95, 10, 50, 316, 68, 171, 103, 51, 107, 394, 389, 383, 37, 66, 241, 84, 32, 34, 73, 28, 194, 328, 400, 260, 332, 79, 264, 395, 402, 76, 176, 47, 398, 70, 155, 231]\n"
     ]
    }
   ],
   "source": [
    "A = loadSet()\n",
    "#A[21755] # last with bident 148*147\n",
    "            \n",
    "workingParents = loadWorkingParents()\n",
    "print(workingParents)"
   ]
  },
  {
   "cell_type": "code",
   "execution_count": 112,
   "metadata": {},
   "outputs": [
    {
     "name": "stdout",
     "output_type": "stream",
     "text": [
      "146\n",
      "145\n",
      "144\n",
      "1 144\n",
      "143\n",
      "1 143\n",
      "142\n",
      "141\n",
      "140\n",
      "139\n",
      "138\n",
      "1 138\n",
      "137\n",
      "136\n",
      "1 136\n"
     ]
    }
   ],
   "source": [
    "eq_idx = int()\n",
    "\n",
    "for i in range(21756, 21767):\n",
    "    if A.getrow(i).data[1] == 4:\n",
    "        eq_idx = A.getrow(i).indices[1] - 405\n",
    "    else:\n",
    "        eq_idx = A.getrow(i).indices[0] - 405\n",
    "\n",
    "    if eq_idx in workingParents:    \n",
    "        print(eq_idx)\n",
    "    "
   ]
  }
 ],
 "metadata": {
  "kernelspec": {
   "display_name": "Python 3",
   "language": "python",
   "name": "python3"
  },
  "language_info": {
   "codemirror_mode": {
    "name": "ipython",
    "version": 3
   },
   "file_extension": ".py",
   "mimetype": "text/x-python",
   "name": "python",
   "nbconvert_exporter": "python",
   "pygments_lexer": "ipython3",
   "version": "3.6.4"
  }
 },
 "nbformat": 4,
 "nbformat_minor": 2
}
