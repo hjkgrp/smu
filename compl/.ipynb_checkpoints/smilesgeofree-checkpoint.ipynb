{
 "cells": [
  {
   "cell_type": "code",
   "execution_count": 1,
   "metadata": {
    "nbpresent": {
     "id": "b770515b-ff53-4a35-b44e-6a08ef5b31f5"
    }
   },
   "outputs": [
    {
     "data": {
      "text/html": [
       "<style>.container { width:80% !important; }</style>"
      ],
      "text/plain": [
       "<IPython.core.display.HTML object>"
      ]
     },
     "metadata": {},
     "output_type": "display_data"
    }
   ],
   "source": [
    "%matplotlib inline  \n",
    "import sys, time, os,shutil,datetime, math\n",
    "import numpy as np\n",
    "import matplotlib.pylab as plt\n",
    "from molSimplify.Classes import globalvars\n",
    "from molSimplify.Classes import mol3D\n",
    "from molSimplify.Informatics.autocorrelation import*\n",
    "from molSimplify.Informatics.misc_descriptors import*\n",
    "from molSimplify.Informatics.RACassemble import*\n",
    "from molSimplify.Informatics.graph_analyze import*\n",
    "from molSimplifyAD.ga_tools import* \n",
    "import pickle\n",
    "\n",
    "from IPython.core.display import display, HTML\n",
    "display(HTML(\"<style>.container { width:80% !important; }</style>\"))"
   ]
  },
  {
   "cell_type": "code",
   "execution_count": 2,
   "metadata": {
    "nbpresent": {
     "id": "3a6900de-83e0-4a2a-a530-ffabafb5ca3c"
    }
   },
   "outputs": [],
   "source": [
    "class quickClass:\n",
    "    def __init__(self,name,descriptor_names,descriptors):\n",
    "        self.name = name\n",
    "        self.descriptor_names = descriptor_names\n",
    "        self.descriptors = descriptors\n",
    "\n",
    "def write_descriptor_csv(list_of_runs,name):\n",
    "    with open(name +'.csv','w') as f:\n",
    "        f.write('runs,')\n",
    "        n_cols = len(list_of_runs[0].descriptor_names)\n",
    "        \n",
    "        for i, names in enumerate(list_of_runs[0].descriptor_names):\n",
    "            if i < (n_cols - 1):\n",
    "                f.write(names + ',')\n",
    "            else:\n",
    "                f.write(names + '\\n')\n",
    "        for runs in list_of_runs:\n",
    "            f.write(runs.name)\n",
    "            \n",
    "            for properties in runs.descriptors:\n",
    "                    f.write(','+str(properties))\n",
    "            f.write('\\n')\n",
    "            \n",
    "def SMILEs_to_liglist(smilesstr,conatoms):\n",
    "    this_mol = mol3D()\n",
    "    this_mol.getOBMol(smilesstr,'smistring')\n",
    "    this_mol.convert2mol3D()\n",
    "    this_lig  = ligand(mol3D(), [],len(conatoms))\n",
    "    this_lig.mol = this_mol\n",
    "    return(this_lig)"
   ]
  },
  {
   "cell_type": "code",
   "execution_count": 3,
   "metadata": {
    "nbpresent": {
     "id": "3f684be1-aa55-4af6-9ee8-37918b1b7554"
    }
   },
   "outputs": [],
   "source": [
    "liglist = list()\n",
    "with open(\"../enum/finalSmiMonodentate.txt\",'r') as f:\n",
    "    for line in f:\n",
    "        liglist.append(line.split()[0].replace('#4','#'))"
   ]
  },
  {
   "cell_type": "code",
   "execution_count": 4,
   "metadata": {
    "scrolled": true
   },
   "outputs": [],
   "source": [
    "# ssProj = pickle.load( open( \"../enum/strongsymMonodentatesProj.p\", \"r\" ) )\n",
    "# homoProj = pickle.load( open( \"../enum/homolepMonodentatesProj.p\", \"r\" ) ) this is not needed because Proj is just 1 for every lig, so we can use the ligand list from cell above directly\n",
    "# foProj = pickle.load( open( \"../enum/fiveonesymMonodentatesProj.p\", \"r\" ) )\n",
    "ftProj = pickle.load( open( \"../enum/fourtwosymMonodentatesProj.p\", \"r\" ) )\n",
    "\n",
    "\n",
    "SMILEs_strings = liglist\n",
    "ligs = [SMILEs_to_liglist(s,[0]) for s in SMILEs_strings] "
   ]
  },
  {
   "cell_type": "code",
   "execution_count": null,
   "metadata": {},
   "outputs": [],
   "source": [
    "# generate racs for ssMono\n",
    "list_of_runs =[]\n",
    "start_time = time.time()\n",
    "list_of_runs =list()\n",
    "for metal in [\"Cr\", \"Mn\", \"Fe\", \"Co\"]: \n",
    "    for i in range(0, ssProj.shape[0]): \n",
    "        metal_mol = mol3D()\n",
    "        metal_mol.addAtom(atom3D(metal)) \n",
    "        \n",
    "        if ssProj[i].data[0] == 4:\n",
    "            eq = ssProj[i].indices[0]\n",
    "            ax = ssProj[i].indices[1]\n",
    "            name = \"_\".join([metal, 'eq', str(eq),'ax', str(ax)])\n",
    "            eq_ligs = 4*[ligs[eq]]\n",
    "            ax_ligs = 2*[ligs[ax]]\n",
    "            \n",
    "        elif ssProj[i].data[0] == 2:\n",
    "            eq = ssProj[i].indices[1]\n",
    "            ax = ssProj[i].indices[0]\n",
    "            name = \"_\".join([metal, 'eq', str(eq),'ax', str(ax)])\n",
    "            eq_ligs = 4*[ligs[eq]]\n",
    "            ax_ligs = 2*[ligs[ax]]\n",
    "        \n",
    "        eq_cons = 4*[[0]]\n",
    "        ax_cons = 2*[[0]]\n",
    "        custom_ligand_dict = {\"eq_ligand_list\":eq_ligs,\n",
    "                              \"ax_ligand_list\":ax_ligs,\n",
    "                              \"eq_con_int_list\":eq_cons,\n",
    "                              \"ax_con_int_list\":ax_cons}\n",
    "\n",
    "        this_complex = assemble_connectivity_from_parts(metal_mol,custom_ligand_dict)\n",
    "        con_mat  = this_complex.graph  \n",
    "        descriptor_names, descriptors = get_descriptor_vector(this_complex,custom_ligand_dict)\n",
    "        list_of_runs.append(quickClass(name,descriptor_names,descriptors))\n",
    "        new_time = (time.time() - start_time)\n",
    "\n",
    "    #     print(\"--- %s seconds ---\" % new_time)\n",
    "    #     print(i)\n",
    "\n",
    "    #     plt.spy(con_mat,precision=0.01, markersize=15)    \n",
    "    #     plt.title('smiles complex ' + liglist[i])\n",
    "    #     plt.show()\n",
    "        \n",
    "print(\"--- %s seconds ---\" % new_time)\n",
    "# --- 34494.538744 seconds --- = 9.58 h\n",
    "\n",
    "write_descriptor_csv(list_of_runs,\"ssRACs\")"
   ]
  },
  {
   "cell_type": "code",
   "execution_count": 250,
   "metadata": {},
   "outputs": [
    {
     "name": "stdout",
     "output_type": "stream",
     "text": [
      "--- 34391.267837 seconds ---\n"
     ]
    }
   ],
   "source": [
    "# generate racs for foMono (five-one)\n",
    "list_of_runs =[]\n",
    "start_time = time.time()\n",
    "list_of_runs =list()\n",
    "for metal in [\"Cr\", \"Mn\", \"Fe\", \"Co\"]: \n",
    "    for i in range(0, foProj.shape[0]): # \n",
    "        metal_mol = mol3D()\n",
    "        metal_mol.addAtom(atom3D(metal)) \n",
    "        \n",
    "        if foProj[i].data[0] == 5:\n",
    "            f = foProj[i].indices[0]\n",
    "            o = foProj[i].indices[1]\n",
    "            name = \"_\".join([metal, 'f', str(f),'o', str(o)])\n",
    "            eq_ligs = 4*[ligs[f]]\n",
    "            ax_ligs = [ligs[f],ligs[o]]\n",
    "            \n",
    "        elif foProj[i].data[0] == 1:\n",
    "            f = foProj[i].indices[1]\n",
    "            o = foProj[i].indices[0]\n",
    "            name = \"_\".join([metal, 'f', str(f),'o', str(o)])\n",
    "            eq_ligs = 4*[ligs[f]]\n",
    "            ax_ligs = [ligs[o],ligs[f]]\n",
    "        \n",
    "        eq_cons = 4*[[0]]\n",
    "        ax_cons = 2*[[0]]\n",
    "        custom_ligand_dict = {\"eq_ligand_list\":eq_ligs,\n",
    "                              \"ax_ligand_list\":ax_ligs,\n",
    "                              \"eq_con_int_list\":eq_cons,\n",
    "                              \"ax_con_int_list\":ax_cons}\n",
    "\n",
    "        this_complex = assemble_connectivity_from_parts(metal_mol,custom_ligand_dict)\n",
    "        con_mat  = this_complex.graph  \n",
    "        descriptor_names, descriptors = get_descriptor_vector(this_complex,custom_ligand_dict)\n",
    "        list_of_runs.append(quickClass(name,descriptor_names,descriptors))\n",
    "        new_time = (time.time() - start_time)\n",
    "\n",
    "    #     print(\"--- %s seconds ---\" % new_time)\n",
    "    #     print(i)\n",
    "\n",
    "    #     plt.spy(con_mat,precision=0.01, markersize=15)    \n",
    "    #     plt.title('smiles complex ' + liglist[i])\n",
    "    #     plt.show()\n",
    "        \n",
    "print(\"--- %s seconds ---\" % new_time)\n",
    "# --- 34494.538744 seconds --- = 9.58 h\n",
    "\n",
    "write_descriptor_csv(list_of_runs,\"foRACs\")"
   ]
  },
  {
   "cell_type": "code",
   "execution_count": 5,
   "metadata": {},
   "outputs": [
    {
     "name": "stdout",
     "output_type": "stream",
     "text": [
      "as\n"
     ]
    }
   ],
   "source": [
    "print('as')"
   ]
  },
  {
   "cell_type": "code",
   "execution_count": 17,
   "metadata": {
    "scrolled": false
   },
   "outputs": [
    {
     "name": "stdout",
     "output_type": "stream",
     "text": [
      "Cr\n",
      "--- 8847.10032511 seconds ---\n",
      "Mn\n",
      "--- 17560.2080109 seconds ---\n",
      "Fe\n",
      "--- 26330.416162 seconds ---\n",
      "Co\n",
      "--- 35126.2804871 seconds ---\n",
      "--- 35126.2804871 seconds ---\n"
     ]
    }
   ],
   "source": [
    "# generate racs for ftMono (four-two)\n",
    "list_of_runs =[]\n",
    "start_time = time.time()\n",
    "list_of_runs =list()\n",
    "for metal in [\"Cr\", \"Mn\", \"Fe\", \"Co\"]: \n",
    "    for i in range(0, ftProj.shape[0]): # ftProj.shape[0]\n",
    "        metal_mol = mol3D()\n",
    "        metal_mol.addAtom(atom3D(metal)) \n",
    "        \n",
    "        if ftProj[i].data[0] == 4:\n",
    "            f = ftProj[i].indices[0]\n",
    "            t = ftProj[i].indices[1]\n",
    "            name = \"_\".join([metal, 'f', str(f),'t', str(t)])\n",
    "            eq_ligs = 2*[ligs[f],ligs[t]]\n",
    "            ax_ligs = 2*[ligs[f]]\n",
    "#             print('four: ' + str(liglist[f]))\n",
    "#             print('two: ' + str(liglist[t]))\n",
    "\n",
    "            \n",
    "        elif ftProj[i].data[0] == 2:\n",
    "            f = ftProj[i].indices[1]\n",
    "            t = ftProj[i].indices[0]\n",
    "            name = \"_\".join([metal, 'f', str(f),'t', str(t)])\n",
    "            eq_ligs = 2*[ligs[f],ligs[t]]\n",
    "            ax_ligs = 2*[ligs[f]]\n",
    "#             print('four: ' + str(liglist[f]))\n",
    "#             print('two: ' + str(liglist[t]))\n",
    "        \n",
    "        eq_cons = 4*[[0]]\n",
    "        ax_cons = 2*[[0]]\n",
    "        custom_ligand_dict = {\"eq_ligand_list\":eq_ligs,\n",
    "                              \"ax_ligand_list\":ax_ligs,\n",
    "                              \"eq_con_int_list\":eq_cons,\n",
    "                              \"ax_con_int_list\":ax_cons}\n",
    "\n",
    "        this_complex = assemble_connectivity_from_parts(metal_mol,custom_ligand_dict)\n",
    "        con_mat  = this_complex.graph  \n",
    "        descriptor_names, descriptors = get_descriptor_vector(this_complex,custom_ligand_dict)\n",
    "        list_of_runs.append(quickClass(name,descriptor_names,descriptors))\n",
    "        new_time = (time.time() - start_time)\n",
    "\n",
    "#         print(\"--- %s seconds ---\" % new_time)\n",
    "\n",
    "#         plt.spy(con_mat,precision=0.01, markersize=15)    \n",
    "#         plt.title('smiles complex ')\n",
    "#         plt.show()\n",
    "    print(metal)\n",
    "    print(\"--- %s seconds ---\" % new_time)\n",
    "print(\"--- %s seconds ---\" % new_time)\n",
    "# --- 35126.2804871 seconds --- = 9.75 h\n",
    "\n",
    "write_descriptor_csv(list_of_runs,\"ftRACs\")"
   ]
  },
  {
   "cell_type": "code",
   "execution_count": 6,
   "metadata": {
    "scrolled": true
   },
   "outputs": [
    {
     "name": "stdout",
     "output_type": "stream",
     "text": [
      "--- 86.0685181618 seconds ---\n"
     ]
    }
   ],
   "source": [
    "start_time = time.time()\n",
    "list_of_runs =[]\n",
    "list_of_runs =list()\n",
    "for metal in [\"Cr\", \"Mn\", \"Fe\", \"Co\"]: \n",
    "    for i in range(0,len(liglist)):\n",
    "        metal_mol = mol3D()\n",
    "        metal_mol.addAtom(atom3D(metal)) \n",
    "\n",
    "        name = \"_\".join([metal, 'eq', str(i),'ax', str(i)])\n",
    "        eq_ligs = 4*[ligs[i]]\n",
    "        ax_ligs = 2*[ligs[i]]\n",
    "        eq_cons = 4*[[0]]\n",
    "        ax_cons = 2*[[0]]\n",
    "        custom_ligand_dict = {\"eq_ligand_list\":eq_ligs,\n",
    "                              \"ax_ligand_list\":ax_ligs,\n",
    "                              \"eq_con_int_list\":eq_cons,\n",
    "                              \"ax_con_int_list\":ax_cons}\n",
    "\n",
    "        this_complex = assemble_connectivity_from_parts(metal_mol,custom_ligand_dict)\n",
    "        con_mat  = this_complex.graph  \n",
    "        descriptor_names, descriptors = get_descriptor_vector(this_complex,custom_ligand_dict)\n",
    "        list_of_runs.append(quickClass(name,descriptor_names,descriptors))\n",
    "        new_time = (time.time() - start_time)\n",
    "\n",
    "    #     print(\"--- %s seconds ---\" % new_time)\n",
    "    #     print(i)\n",
    "\n",
    "    #     plt.spy(con_mat,precision=0.01, markersize=15)    \n",
    "    #     plt.title('smiles complex ' + liglist[i])\n",
    "    #     plt.show()\n",
    "        \n",
    "print(\"--- %s seconds ---\" % new_time)\n",
    "\n",
    "write_descriptor_csv(list_of_runs,\"homolepticRACs\")"
   ]
  },
  {
   "cell_type": "code",
   "execution_count": 243,
   "metadata": {
    "nbpresent": {
     "id": "b4f72b68-6032-4908-87db-c12f8718d324"
    }
   },
   "outputs": [],
   "source": []
  },
  {
   "cell_type": "code",
   "execution_count": null,
   "metadata": {},
   "outputs": [],
   "source": []
  }
 ],
 "metadata": {
  "anaconda-cloud": {},
  "celltoolbar": "Raw Cell Format",
  "kernelspec": {
   "display_name": "Python [conda env:smu]",
   "language": "python",
   "name": "conda-env-smu-py"
  },
  "language_info": {
   "codemirror_mode": {
    "name": "ipython",
    "version": 2
   },
   "file_extension": ".py",
   "mimetype": "text/x-python",
   "name": "python",
   "nbconvert_exporter": "python",
   "pygments_lexer": "ipython2",
   "version": "2.7.14"
  }
 },
 "nbformat": 4,
 "nbformat_minor": 1
}
