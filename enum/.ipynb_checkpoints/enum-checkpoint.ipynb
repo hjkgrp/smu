{
 "cells": [
  {
   "cell_type": "code",
   "execution_count": 88,
   "metadata": {},
   "outputs": [],
   "source": [
    "from matplotlib import pyplot as plt\n",
    "import numpy as np\n",
    "import random\n",
    "import re\n",
    "import sys"
   ]
  },
  {
   "cell_type": "code",
   "execution_count": 1,
   "metadata": {},
   "outputs": [],
   "source": [
    "# list of elements with name as key and [total electrons, valence electrons, usually used for bonds] as value\n",
    "elemList = {'C':[6,4,4],'N':[7,5,3],'O':[8,6,2],'P':[15,5,3],'S':[16,6,2]} # 'Si':[14,4,4],'Cl':[17,7,1]\n",
    "components = \"CNOPS\"\n",
    "# number of charges we are sampling through\n",
    "chargeList = range(-2,3)\n",
    "# number of H atoms we are sampling through\n",
    "hList = range(0,5)\n",
    "            \n",
    "class ligand():\n",
    "    def __init__(self, name, numberOfHs, charge):\n",
    "        self.name = name\n",
    "        self.charge = charge\n",
    "        self.numberOfHs = numberOfHs\n",
    "        self.numberOfEs = self.getNumE()\n",
    "        self.getNumE()\n",
    "        \n",
    "    def print_name(self):\n",
    "        print(self.name)\n",
    "    \n",
    "    def print_charge(self):\n",
    "        print(self.charge)\n",
    "    \n",
    "    def print_numberOfHs(self):\n",
    "        print(self.numberOfHs)\n",
    "    \n",
    "    # CHARGES\n",
    "    def setCharge(self,charge):\n",
    "        self.charge = charge\n",
    "        self.getNumE()\n",
    "        \n",
    "    def incrCharge(self):\n",
    "        self.charge += 1\n",
    "        self.getNumE()\n",
    "        \n",
    "    def decrCharge(self):\n",
    "        self.charge -= 1\n",
    "        self.getNumE()\n",
    "        \n",
    "    # HYDROGENS    \n",
    "    def setH(self, number):\n",
    "        self.numberOfHs = number\n",
    "        self.getNumE()\n",
    "    \n",
    "    def addH(self):\n",
    "        self.numberOfHs += 1\n",
    "        self.getNumE()\n",
    "        \n",
    "    def rmH(self):\n",
    "        self.numberOfHs -= 1\n",
    "        self.getNumE()\n",
    "        \n",
    "    def getNumE(self):\n",
    "        self.numLP = int((elemList[self.name][1] - elemList[self.name][2])/2)\n",
    "        self.numValE = elemList[self.name][1]\n",
    "        self.numE = elemList[self.name][0]\n",
    "        mod = self.numberOfHs - self.charge\n",
    "        self.numValE += mod\n",
    "        self.numE += mod\n",
    "        \n",
    "    def getSmiles(self):\n",
    "        \"\"\"Generates a SMILES string. The first row adds hydrogen and the second row charges\"\"\"\n",
    "        self.SMILES =  \"[\" + self.name + \"\".join([\"H\" for i in range(0,self.numberOfHs)]) \n",
    "        self.SMILES += \"\".join([\"+\" if self.charge > 0  else \"-\" for i in range(0,abs(self.charge))]) + \"]\"\n",
    "    \n",
    "    def testOctetRule(self):\n",
    "        \"\"\"Test whether a mono-heavy-atom ligand fulfills the octet rule. Results < 8 means that there are \n",
    "        too many electrons, result > 8 means that there are not enough electrons.\"\"\"\n",
    "        result = 8 - self.numValE\n",
    "        return(result)\n",
    "    \n",
    "    def testValenceShell(self):\n",
    "        \"\"\"Since open shell complexes are difficult to converge in DFT, we restrict ourselves to closed shell ones.\"\"\"\n",
    "        result =  int(not self.numValE%2)\n",
    "        return(result)\n",
    "        \n",
    "    def score(self):\n",
    "        \"\"\"The health score helps to prune the full enumeration by setting open shell ligands to zero and \n",
    "        weights ligands with negative charge more than ligands with positive charge. Greater is better in this\n",
    "        score.\"\"\"\n",
    "        score = (10-(-2*self.testOctetRule() if self.testOctetRule() < 0 else self.testOctetRule())) #*self.testValenceShell() # removed the testValshell bc it is only relevant for the whole ligand\n",
    "        return(score)\n",
    "    \n",
    "    "
   ]
  },
  {
   "cell_type": "code",
   "execution_count": 6,
   "metadata": {},
   "outputs": [],
   "source": [
    "# generate exhaustive output list for mono-ligands\n",
    "outputList = list()\n",
    "for elem in elemList.keys():\n",
    "    for charge in chargeList:\n",
    "        l = ligand(elem, 0, 0)\n",
    "        l.setCharge(charge)\n",
    "        for h in hList:\n",
    "            if h:\n",
    "                l.addH()\n",
    "            l.getSmiles()\n",
    "            outputList.append([l.SMILES,l.numE,l.numValE,l.charge,l.testOctetRule(),l.testValenceShell(),l.score()]) \n"
   ]
  },
  {
   "cell_type": "code",
   "execution_count": 167,
   "metadata": {},
   "outputs": [
    {
     "name": "stdout",
     "output_type": "stream",
     "text": [
      "5625\n",
      "[C-][N]: 7\n",
      "[C][O]: 8\n",
      "[N-][C]: 6\n",
      "[N+][O]: 8\n",
      "[O--][O]: 8\n",
      "[S--][S]: 8\n"
     ]
    }
   ],
   "source": [
    "# re.sub('[\\]\\[]','',diatomName) # remove the brackets\n",
    "\n",
    "# generate exhaustive output list for di-ligands\n",
    "outputListDi = list()\n",
    "dictDi = dict()\n",
    "\n",
    "for elem1 in elemList.keys():\n",
    "    for elem2 in elemList.keys():\n",
    "        for charge1 in range(-4,5):\n",
    "#         for charge2 in chargeList:\n",
    "#             idea: only use charge1 on one but from -4 to +4, because charge is not localized in dft\n",
    "            for h1 in hList:\n",
    "                for h2 in hList: \n",
    "                    l1 = ligand(elem1, 0, 0)\n",
    "                    l1.setCharge(charge1)\n",
    "                    l1.setH(h1)\n",
    "                    l2 = ligand(elem2, 0, 0)\n",
    "                    l2.setCharge(0)\n",
    "                    l2.setH(h2)\n",
    "\n",
    "                    l1.getSmiles()\n",
    "                    l2.getSmiles()\n",
    "\n",
    "\n",
    "\n",
    "                    diatomName = ''.join(l1.SMILES + l2.SMILES)\n",
    "\n",
    "                    dictDi[diatomName] = [l1.numE, l1.numValE, l1.numLP, l1.charge, l1.numberOfHs, \\\n",
    "                                         l1.testOctetRule(), l1.testValenceShell(), l1.score(),\\\n",
    "                                         l2.numE, l2.numValE, l2.numLP, l2.charge, l2.numberOfHs, \\\n",
    "                                         l2.testOctetRule(), l2.testValenceShell(), l2.score()]\n",
    "                        \n",
    "                    outputListDi.append([l1.SMILES, \\\n",
    "                                             l1.numE, l1.numValE, l1.numLP, l1.charge, l1.numberOfHs, \\\n",
    "                                             l1.testOctetRule(), l1.testValenceShell(), l1.score(),\\\n",
    "                                             l2.SMILES,\n",
    "                                             l2.numE, l2.numValE, l2.numLP, l2.charge, l2.numberOfHs, \\\n",
    "                                             l2.testOctetRule(), l2.testValenceShell(), l2.score()])\n",
    "print(len(dictDi))\n",
    "\n",
    "# # exclude identical molecules\n",
    "# for name1, i in dictDi.items():\n",
    "#     for name2, j in dictDi.items():\n",
    "#         if name1 == name2:\n",
    "#             print(name1 + name2)\n",
    "#         elif re.sub('[\\]\\[]','',name1) == re.sub('[\\]\\[]','',name2) and i[4] == j[4]:\n",
    "#             print(name1 + name2)\n",
    "\n",
    "scSeriesMono = ['[Cl-][X]', '[OH-][X]', '[Cl-][X]', '[OHH][X]', '[NHHH][X]']\n",
    "scSeriesDi = ['[S--][S]', '[C-][N]', '[N-][C]', '[C][O]', '[N+][O]', '[O--][O]']\n",
    "\n",
    "for name, props in dictDi.items():\n",
    "    for i in range(0, len(scSeriesDi)):\n",
    "        if name == scSeriesDi[i]:\n",
    "            print(name + ': ' + str(props[-1]))\n"
   ]
  },
  {
   "cell_type": "code",
   "execution_count": 168,
   "metadata": {},
   "outputs": [],
   "source": [
    "# net charge <+1\n",
    "# vsepr\n",
    "# sterics\n",
    "# closed shell\n",
    "# octet rule\n"
   ]
  },
  {
   "cell_type": "code",
   "execution_count": 169,
   "metadata": {},
   "outputs": [
    {
     "name": "stdout",
     "output_type": "stream",
     "text": [
      "711\n"
     ]
    },
    {
     "data": {
      "image/png": "[encoded data removed]",
      "text/plain": [
       "<matplotlib.figure.Figure at 0x7fbf8c9ba240>"
      ]
     },
     "metadata": {},
     "output_type": "display_data"
    }
   ],
   "source": [
    "## only negatively charged ligands\n",
    "outputListDiNeg = []\n",
    "scoreDiNeg = []\n",
    "for name, line in dictDi.items():\n",
    "    line[3] = charge\n",
    "    if charge <= 1 and line[4] < 4: # overall charge should not exceed +1 and not more than 3 H at CA\n",
    "        \n",
    "        # charge score\n",
    "        scoreCharge = 0\n",
    "        if charge == 0 or charge == -1 or charge == -2:\n",
    "            scoreCharge = 3 \n",
    "        elif charge == -3:\n",
    "            scoreCharge = 1\n",
    "        \n",
    "        # VSEPR score\n",
    "        usual1 = line[1] - 2*line[2] + line[3] - 2*line[4]\n",
    "        usual2 = line[9] - 2*line[10] + line[11] - 2*line[12]\n",
    "        scoreVsepr = 5-np.abs(usual1-usual2)\n",
    "        \n",
    "        # Coordinating Atom (CA) Sterics Score\n",
    "        if line[4] == 3:\n",
    "            scoreCa = 0\n",
    "        else:\n",
    "            scoreCa = 3\n",
    "        \n",
    "        # closed shell switch\n",
    "        scoreClosedShell = int(not((line[1]+line[9])%2))\n",
    "        \n",
    "        #total score\n",
    "        score = (scoreCharge + scoreVsepr + scoreCa + 0.5 * line[7] + 0.5 * line[15])*scoreClosedShell\n",
    "        scoreDiNeg.append(score)\n",
    "        \n",
    "        outputListDiNeg.append([line,score])\n",
    "    \n",
    "    else:\n",
    "        continue\n",
    "\n",
    "\n",
    "k = 0 \n",
    "score = np.zeros(len(outputListDiNeg))\n",
    "for i in range(0, len(outputListDiNeg)):\n",
    "    score[i] = outputListDiNeg[i][-1]\n",
    "    if score[i] > 16:\n",
    "        k += 1\n",
    "#         print(outputListDiNeg[i])\n",
    "print(k)    \n",
    "\n",
    "plt.xlabel('Score')\n",
    "plt.ylabel('Number of Ligands')\n",
    "plt.title('Histogram of Ligands ['+ components + \"]\")\n",
    "plt.hist(score)\n",
    "# plt.savefig('distr_' + components + \".pdf\", bbox_inches='tight')\n",
    "plt.show()\n",
    "\n"
   ]
  },
  {
   "cell_type": "code",
   "execution_count": 132,
   "metadata": {},
   "outputs": [
    {
     "name": "stdout",
     "output_type": "stream",
     "text": [
      "2811\n"
     ]
    },
    {
     "data": {
      "image/png": "[encoded data removed]",
      "text/plain": [
       "<matplotlib.figure.Figure at 0x7fbfac2a1b38>"
      ]
     },
     "metadata": {},
     "output_type": "display_data"
    }
   ],
   "source": [
    "# first version of scoring\n",
    "\n",
    "# ## only negatively charged ligands\n",
    "# outputListDiNeg = []\n",
    "# scoreDiNeg = []\n",
    "# for line in outputListDi:\n",
    "#     # only consider negatively charged di-heavy-atoms\n",
    "#     if line[4] <= 0 or line[13] <= 0:\n",
    "#         # higher is better\n",
    "#         scoreCharge = 3 if line[4] + line[13] >= -2 else line[4] + line[13] + 4\n",
    "#         scoreCharge -= 3 if line[4] + line[13] > 0 else 0\n",
    "\n",
    "#         usual1 = line[2] - 2*line[3] + line[4] - 2*line[5]\n",
    "#         usual2 = line[11] - 2*line[12] + line[13] - 2*line[14]\n",
    "#         scoreVsepr = 5-np.abs(usual1-usual2)\n",
    "        \n",
    "#         # THEY ARENT[[since both AB and BA is created, we remove the ones that are A=B]]\n",
    "#         # the first atom is the CA and we punish >=3 H on it.\n",
    "#         if line[5] == 4:\n",
    "#             scoreCa = 0\n",
    "#         elif line[5] == 3:\n",
    "#             scoreCa = 1\n",
    "#         else:\n",
    "#             scoreCa = 4\n",
    "        \n",
    "#         scoreClosedShell = int(not((line[2]+line[11])%2))\n",
    "\n",
    "#         score = (scoreCharge + scoreVsepr + scoreCa + 0.5 * line[8] + 0.5 * line[17])*scoreClosedShell\n",
    "#         scoreDiNeg.append(score)\n",
    "        \n",
    "#         outputListDiNeg.append([line,score])\n",
    "#     else:\n",
    "#         continue\n",
    "\n",
    "# # gives 5625 (total 15625 * 9/25, since there are 25 comb of [-2,+2], 9 of which contain a pos sign)    \n",
    "\n",
    "# # for s in outputListDiNeg:\n",
    "# #     print(*s)\n",
    "# k=0\n",
    "# score = np.zeros(len(outputListDiNeg))\n",
    "# for i in range(0, len(outputListDiNeg)):\n",
    "#     score[i] = outputListDiNeg[i][1]\n",
    "#     if score[i] > 3:\n",
    "#         k += 1\n",
    "# #         print(outputListDiNeg[i])\n",
    "# print(k)    \n",
    "\n",
    "# plt.xlabel('Score')\n",
    "# plt.ylabel('Number of Ligands')\n",
    "# plt.title('Histogram of Ligands ['+ components + \"]\")\n",
    "# plt.hist(score)\n",
    "# # plt.savefig('distr_' + components + \".pdf\", bbox_inches='tight')\n",
    "# plt.show()\n",
    "\n"
   ]
  },
  {
   "cell_type": "code",
   "execution_count": null,
   "metadata": {},
   "outputs": [],
   "source": []
  },
  {
   "cell_type": "code",
   "execution_count": 40,
   "metadata": {
    "collapsed": true
   },
   "outputs": [],
   "source": [
    "# create list of isoelectronic ligands and ve-isoelectronig ligands (ligands that have the same amount of VE)\n",
    "isoList = []  \n",
    "veList = []\n",
    "score = []\n",
    "for line in outputList:\n",
    "    isoList.append(line[1]) # unsorted list of the total amount of e\n",
    "    veList.append(line[2]) # unsorted list of the amount of VE\n",
    "    score.append(line[-1])\n",
    "\n",
    "isoLigands = {} # dictionary of ligands with key: number of electrons, values: the whole output\n",
    "d = dict()\n",
    "for i in np.unique(isoList):\n",
    "    d[i] = []\n",
    "\n",
    "for line in outputList:\n",
    "    d[line[1]].append(line)"
   ]
  },
  {
   "cell_type": "code",
   "execution_count": 41,
   "metadata": {},
   "outputs": [
    {
     "data": {
      "image/png": "[encoded data removed]",
      "text/plain": [
       "<matplotlib.figure.Figure at 0x1f0618df278>"
      ]
     },
     "metadata": {},
     "output_type": "display_data"
    }
   ],
   "source": [
    "# plot of score function vs number of total electrons. It seems like the number of electrons determines the score fullz.\n",
    "plt.scatter(isoList, score, s = 5)\n",
    "plt.xlabel('Number of Electrons')\n",
    "plt.ylabel('Score Function')\n",
    "plt.title('Isoelectronic Ligands and their Score ['+ components + \"]\")\n",
    "plt.xticks(np.unique(isoList))\n",
    "plt.savefig('score_iso_ligands_' + components + \".pdf\", bbox_inches='tight')\n",
    "plt.show()\n"
   ]
  },
  {
   "cell_type": "code",
   "execution_count": 73,
   "metadata": {},
   "outputs": [
    {
     "data": {
      "image/png": "[encoded data removed]",
      "text/plain": [
       "<matplotlib.figure.Figure at 0x1f061664978>"
      ]
     },
     "metadata": {},
     "output_type": "display_data"
    }
   ],
   "source": [
    "# plot the number of ligands sorted by the number of electrons (isoelectronic structures)\n",
    "\n",
    "numBins = len(np.unique(isoList))\n",
    "\n",
    "plt.hist(isoList, bins = numBins, facecolor='green')\n",
    "plt.xlabel('Number of Electrons')\n",
    "plt.ylabel('Number of Ligands')\n",
    "plt.title('Histogram of Isoelectronic Ligands ['+ components + \"]\")\n",
    "plt.xticks(np.unique(isoList))\n",
    "# plt.savefig('hist_iso_ligands_' + components + \".pdf\", bbox_inches='tight')\n",
    "plt.show()\n"
   ]
  },
  {
   "cell_type": "code",
   "execution_count": 78,
   "metadata": {},
   "outputs": [
    {
     "data": {
      "image/png": "[encoded data removed]",
      "text/plain": [
       "<matplotlib.figure.Figure at 0x1f0628b5550>"
      ]
     },
     "metadata": {},
     "output_type": "display_data"
    }
   ],
   "source": [
    "# plot the number of ligands sorted by the number of VE (VE-isoelectronic structures)\n",
    "\n",
    "numBins = len(np.unique(veList))\n",
    "\n",
    "plt.hist(veList, bins = numBins, facecolor='green')\n",
    "plt.xlabel('Number of Valence Electrons (VE) ['+ components + \"]\")\n",
    "plt.ylabel('Number of Ligands')\n",
    "plt.title('Histogram of Iso-VE-Ligands ['+ components + \"]\")\n",
    "plt.xticks(np.unique(veList))\n",
    "# plt.savefig('hist_isove_ligands_' + components + \".pdf\", bbox_inches='tight')\n",
    "plt.show()\n"
   ]
  },
  {
   "cell_type": "code",
   "execution_count": null,
   "metadata": {},
   "outputs": [],
   "source": []
  },
  {
   "cell_type": "code",
   "execution_count": null,
   "metadata": {
    "collapsed": true
   },
   "outputs": [],
   "source": []
  },
  {
   "cell_type": "code",
   "execution_count": null,
   "metadata": {
    "collapsed": true
   },
   "outputs": [],
   "source": []
  },
  {
   "cell_type": "code",
   "execution_count": null,
   "metadata": {
    "collapsed": true
   },
   "outputs": [],
   "source": []
  }
 ],
 "metadata": {
  "kernelspec": {
   "display_name": "Python 3",
   "language": "python",
   "name": "python3"
  },
  "language_info": {
   "codemirror_mode": {
    "name": "ipython",
    "version": 3
   },
   "file_extension": ".py",
   "mimetype": "text/x-python",
   "name": "python",
   "nbconvert_exporter": "python",
   "pygments_lexer": "ipython3",
   "version": "3.6.4"
  }
 },
 "nbformat": 4,
 "nbformat_minor": 2
}
