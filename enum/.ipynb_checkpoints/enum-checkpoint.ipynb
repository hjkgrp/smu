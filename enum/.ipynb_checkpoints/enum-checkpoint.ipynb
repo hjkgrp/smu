{
 "cells": [
  {
   "cell_type": "code",
   "execution_count": 1,
   "metadata": {},
   "outputs": [],
   "source": [
    "from matplotlib import pyplot as plt\n",
    "import numpy as np\n",
    "import random"
   ]
  },
  {
   "cell_type": "code",
   "execution_count": 4,
   "metadata": {},
   "outputs": [],
   "source": [
    "# list of elements with name as key and [total electrons, valence electrons] as value\n",
    "elemList = {'C':[6,4],'N':[7,5],'O':[8,6],'P':[15,5],'S':[16,6]} # 'Si':[14,4],'Cl':[17,7]\n",
    "components = \"CNOPS\"\n",
    "# number of charges we are sampling through\n",
    "chargeList = range(-2,3)\n",
    "# number of H atoms we are sampling through\n",
    "hList = range(0,5)\n",
    "\n",
    "# class dualLigand():\n",
    "#     def __init__(self, atom1, atom2):\n",
    "#         self.atom1 = atom1 \n",
    "#         self.atom2 = atom2 \n",
    "#     def updateValence():\n",
    "#         v1 = self.atom1.numValE\n",
    "#         v2 = self.atom2.numValE\n",
    "#         if v1==v2 and v1==7:\n",
    "#             self.atom1.updateValence(1)\n",
    "#             self.atom2.updateValence(1)\n",
    "#         if v1==v2 and v1==6:\n",
    "#             self.atom1.updateValence(2)\n",
    "#             self.atom2.updateValence(2)\n",
    "            \n",
    "class ligand():\n",
    "    def __init__(self, name, numberOfHs, charge):\n",
    "        self.name = name\n",
    "        self.charge = charge\n",
    "        self.numberOfHs = numberOfHs\n",
    "        self.numberOfEs = numberOfEs\n",
    "        self.getNumE()\n",
    "        \n",
    "    def print_name(self):\n",
    "        print(self.name)\n",
    "    \n",
    "    def print_charge(self):\n",
    "        print(self.charge)\n",
    "    \n",
    "    def print_numberOfHs(self):\n",
    "        print(self.numberOfHs)\n",
    "    \n",
    "    def setCharge(self,charge):\n",
    "        self.charge = charge\n",
    "        self.getNumE()\n",
    "        \n",
    "    def incrCharge(self):\n",
    "        self.charge += 1\n",
    "        self.getNumE()\n",
    "        \n",
    "    def decrCharge(self):\n",
    "        self.charge -= 1\n",
    "        self.getNumE()\n",
    "        \n",
    "    def addH(self):\n",
    "        self.numberOfHs += 1\n",
    "        self.getNumE()\n",
    "        \n",
    "    def rmH(self):\n",
    "        self.numberOfHs -= 1\n",
    "        self.getNumE()\n",
    "        \n",
    "    def getNumE(self):\n",
    "        self.numValE = elemList[self.name][1]\n",
    "        self.numE = elemList[self.name][0]\n",
    "        mod = self.numberOfHs - self.charge\n",
    "        self.numValE += mod\n",
    "        self.numE += mod\n",
    "        \n",
    "    def getSmiles(self):\n",
    "        \"\"\"Generates a SMILES string. The first row adds hydrogen and the second row charges\"\"\"\n",
    "        self.SMILES =  \"[\" + self.name + \"\".join([\"H\" for i in range(0,self.numberOfHs)]) \n",
    "        self.SMILES += \"\".join([\"+\" if self.charge > 0  else \"-\" for i in range(0,abs(self.charge))]) + \"]\"\n",
    "    \n",
    "    def testOctetRule(self):\n",
    "        \"\"\"Test whether a mono-heavy-atom ligand fulfills the octet rule. Results < 8 means that there are \n",
    "        too many electrons, result > 8 means that there are not enough electrons.\"\"\"\n",
    "        result = 8 - self.numValE\n",
    "        return(result)\n",
    "    \n",
    "    def testValenceShell(self):\n",
    "        \"\"\"Since open shell complexes are difficult to converge in DFT, we restrict ourselves to closed shell ones.\"\"\"\n",
    "        result =  int(not self.numValE%2)\n",
    "        return(result)\n",
    "        \n",
    "    def score(self):\n",
    "        \"\"\"The health score helps to prune the full enumeration by setting open shell ligands to zero and \n",
    "        weights ligands with negative charge more than ligands with positive charge. Greater is better in this\n",
    "        score.\"\"\"\n",
    "        score = self.testValenceShell()*(10-(-1.5*self.testOctetRule() if self.testOctetRule() < 0 else self.testOctetRule()))\n",
    "        return(score + random.uniform(-1,1))\n",
    "    \n",
    "    "
   ]
  },
  {
   "cell_type": "code",
   "execution_count": 8,
   "metadata": {},
   "outputs": [
    {
     "ename": "NameError",
     "evalue": "name 'numberOfEs' is not defined",
     "output_type": "error",
     "traceback": [
      "\u001b[0;31m---------------------------------------------------------------------------\u001b[0m",
      "\u001b[0;31mNameError\u001b[0m                                 Traceback (most recent call last)",
      "\u001b[0;32m<ipython-input-8-e0dfadf1788b>\u001b[0m in \u001b[0;36m<module>\u001b[0;34m()\u001b[0m\n\u001b[1;32m      3\u001b[0m \u001b[0;32mfor\u001b[0m \u001b[0melem\u001b[0m \u001b[0;32min\u001b[0m \u001b[0melemList\u001b[0m\u001b[0;34m.\u001b[0m\u001b[0mkeys\u001b[0m\u001b[0;34m(\u001b[0m\u001b[0;34m)\u001b[0m\u001b[0;34m:\u001b[0m\u001b[0;34m\u001b[0m\u001b[0m\n\u001b[1;32m      4\u001b[0m     \u001b[0;32mfor\u001b[0m \u001b[0mcharge\u001b[0m \u001b[0;32min\u001b[0m \u001b[0mchargeList\u001b[0m\u001b[0;34m:\u001b[0m\u001b[0;34m\u001b[0m\u001b[0m\n\u001b[0;32m----> 5\u001b[0;31m         \u001b[0ml\u001b[0m \u001b[0;34m=\u001b[0m \u001b[0mligand\u001b[0m\u001b[0;34m(\u001b[0m\u001b[0melem\u001b[0m\u001b[0;34m,\u001b[0m \u001b[0;36m0\u001b[0m\u001b[0;34m,\u001b[0m \u001b[0;36m0\u001b[0m\u001b[0;34m)\u001b[0m\u001b[0;34m\u001b[0m\u001b[0m\n\u001b[0m\u001b[1;32m      6\u001b[0m         \u001b[0ml\u001b[0m\u001b[0;34m.\u001b[0m\u001b[0msetCharge\u001b[0m\u001b[0;34m(\u001b[0m\u001b[0mcharge\u001b[0m\u001b[0;34m)\u001b[0m\u001b[0;34m\u001b[0m\u001b[0m\n\u001b[1;32m      7\u001b[0m         \u001b[0;32mfor\u001b[0m \u001b[0mh\u001b[0m \u001b[0;32min\u001b[0m \u001b[0mhList\u001b[0m\u001b[0;34m:\u001b[0m\u001b[0;34m\u001b[0m\u001b[0m\n",
      "\u001b[0;32m<ipython-input-4-5589e5f29050>\u001b[0m in \u001b[0;36m__init__\u001b[0;34m(self, name, numberOfHs, charge)\u001b[0m\n\u001b[1;32m     26\u001b[0m         \u001b[0mself\u001b[0m\u001b[0;34m.\u001b[0m\u001b[0mcharge\u001b[0m \u001b[0;34m=\u001b[0m \u001b[0mcharge\u001b[0m\u001b[0;34m\u001b[0m\u001b[0m\n\u001b[1;32m     27\u001b[0m         \u001b[0mself\u001b[0m\u001b[0;34m.\u001b[0m\u001b[0mnumberOfHs\u001b[0m \u001b[0;34m=\u001b[0m \u001b[0mnumberOfHs\u001b[0m\u001b[0;34m\u001b[0m\u001b[0m\n\u001b[0;32m---> 28\u001b[0;31m         \u001b[0mself\u001b[0m\u001b[0;34m.\u001b[0m\u001b[0mnumberOfEs\u001b[0m \u001b[0;34m=\u001b[0m \u001b[0mnumberOfEs\u001b[0m\u001b[0;34m\u001b[0m\u001b[0m\n\u001b[0m\u001b[1;32m     29\u001b[0m         \u001b[0mself\u001b[0m\u001b[0;34m.\u001b[0m\u001b[0mgetNumE\u001b[0m\u001b[0;34m(\u001b[0m\u001b[0;34m)\u001b[0m\u001b[0;34m\u001b[0m\u001b[0m\n\u001b[1;32m     30\u001b[0m \u001b[0;34m\u001b[0m\u001b[0m\n",
      "\u001b[0;31mNameError\u001b[0m: name 'numberOfEs' is not defined"
     ]
    }
   ],
   "source": [
    "# generate exhaustive output list\n",
    "outputList = list()\n",
    "for elem in elemList.keys():\n",
    "    for charge in chargeList:\n",
    "        l = ligand(elem, 0, 0)\n",
    "        l.setCharge(charge)\n",
    "        for h in hList:\n",
    "            if h:\n",
    "                l.addH()\n",
    "            l.getSmiles()\n",
    "            outputList.append([l.SMILES,l.numE,l.numValE,l.charge,l.testOctetRule(),l.testValenceShell(),l.score()])\n",
    "    \n",
    "\n",
    "# create list of isoelectronic ligands and ve-isoelectronig ligands (ligands that have the same amount of VE)\n",
    "isoList = []  \n",
    "veList = []\n",
    "score = []\n",
    "for line in outputList:\n",
    "    isoList.append(line[1]) # unsorted list of the total amount of e\n",
    "    veList.append(line[2]) # unsorted list of the amount of VE\n",
    "    score.append(line[-1])\n",
    "\n",
    "isoLigands = {} # dictionary of ligands with key: number of electrons, values: the whole output\n",
    "for i in np.unique(isoList):\n",
    "    d[i] = []\n",
    "\n",
    "for line in outputList:\n",
    "    d[line[1]].append(line)\n"
   ]
  },
  {
   "cell_type": "code",
   "execution_count": 302,
   "metadata": {},
   "outputs": [
    {
     "data": {
      "text/plain": [
       "<matplotlib.collections.PathCollection at 0x7f80809434e0>"
      ]
     },
     "execution_count": 302,
     "metadata": {},
     "output_type": "execute_result"
    },
    {
     "data": {
      "image/png": "[encoded data removed]",
      "text/plain": [
       "<matplotlib.figure.Figure at 0x7f808113b0f0>"
      ]
     },
     "metadata": {},
     "output_type": "display_data"
    }
   ],
   "source": [
    "plt.scatter(isoList, score, s = 5)"
   ]
  },
  {
   "cell_type": "code",
   "execution_count": 313,
   "metadata": {},
   "outputs": [
    {
     "data": {
      "image/png": "[encoded data removed]",
      "text/plain": [
       "<matplotlib.figure.Figure at 0x7f8080381a90>"
      ]
     },
     "metadata": {},
     "output_type": "display_data"
    }
   ],
   "source": [
    "# plot the number of ligands sorted by the number of electrons (isoelectronic structures)\n",
    "\n",
    "numBins = len(np.unique(isoList))\n",
    "\n",
    "plt.hist(isoList, bins = numBins, facecolor='green')\n",
    "plt.xlabel('Number of Electrons')\n",
    "plt.ylabel('Number of Bins')\n",
    "plt.title('Histogram of Isoelectronic Ligands ['+ components + \"]\")\n",
    "plt.xticks(np.unique(isoList))\n",
    "plt.savefig('hist_iso_ligands_' + components + \".pdf\", bbox_inches='tight')\n",
    "plt.show()\n"
   ]
  },
  {
   "cell_type": "code",
   "execution_count": 314,
   "metadata": {},
   "outputs": [
    {
     "data": {
      "image/png": "[encoded data removed]",
      "text/plain": [
       "<matplotlib.figure.Figure at 0x7f80802b9320>"
      ]
     },
     "metadata": {},
     "output_type": "display_data"
    }
   ],
   "source": [
    "# plot the number of ligands sorted by the number of VE (VE-isoelectronic structures)\n",
    "\n",
    "numBins = len(np.unique(veList))\n",
    "\n",
    "plt.hist(veList, bins = numBins, facecolor='green')\n",
    "plt.xlabel('Number of Valence Electrons (VE) ['+ components + \"]\")\n",
    "plt.ylabel('Number of Bins')\n",
    "plt.title('Histogram of Iso-VE-Ligands')\n",
    "plt.xticks(np.unique(veList))\n",
    "plt.savefig('hist_isove_ligands_' + components + \".pdf\", bbox_inches='tight')\n",
    "plt.show()\n"
   ]
  },
  {
   "cell_type": "code",
   "execution_count": 89,
   "metadata": {},
   "outputs": [
    {
     "ename": "TypeError",
     "evalue": "can only concatenate list (not \"int\") to list",
     "output_type": "error",
     "traceback": [
      "\u001b[0;31m---------------------------------------------------------------------------\u001b[0m",
      "\u001b[0;31mTypeError\u001b[0m                                 Traceback (most recent call last)",
      "\u001b[0;32m<ipython-input-89-8a3fa1418182>\u001b[0m in \u001b[0;36m<module>\u001b[0;34m()\u001b[0m\n\u001b[1;32m      2\u001b[0m     \u001b[0;32mfor\u001b[0m \u001b[0mcharge\u001b[0m \u001b[0;32min\u001b[0m \u001b[0mchargeList\u001b[0m\u001b[0;34m:\u001b[0m\u001b[0;34m\u001b[0m\u001b[0m\n\u001b[1;32m      3\u001b[0m         \u001b[0;32mfor\u001b[0m \u001b[0mh\u001b[0m \u001b[0;32min\u001b[0m \u001b[0mhList\u001b[0m\u001b[0;34m:\u001b[0m\u001b[0;34m\u001b[0m\u001b[0m\n\u001b[0;32m----> 4\u001b[0;31m             \u001b[0mnumberOfEs\u001b[0m \u001b[0;34m=\u001b[0m \u001b[0melemList\u001b[0m\u001b[0;34m.\u001b[0m\u001b[0mget\u001b[0m\u001b[0;34m(\u001b[0m\u001b[0melem\u001b[0m\u001b[0;34m)\u001b[0m \u001b[0;34m+\u001b[0m \u001b[0mcharge\u001b[0m \u001b[0;34m+\u001b[0m \u001b[0mh\u001b[0m\u001b[0;34m\u001b[0m\u001b[0m\n\u001b[0m\u001b[1;32m      5\u001b[0m             \u001b[0ml\u001b[0m \u001b[0;34m=\u001b[0m \u001b[0mligand\u001b[0m\u001b[0;34m(\u001b[0m\u001b[0melem\u001b[0m\u001b[0;34m,\u001b[0m \u001b[0mh\u001b[0m\u001b[0;34m,\u001b[0m \u001b[0mcharge\u001b[0m\u001b[0;34m,\u001b[0m \u001b[0mnumberOfEs\u001b[0m\u001b[0;34m)\u001b[0m\u001b[0;34m\u001b[0m\u001b[0m\n\u001b[1;32m      6\u001b[0m             \u001b[0ml\u001b[0m\u001b[0;34m.\u001b[0m\u001b[0mnumValE\u001b[0m\u001b[0;34m\u001b[0m\u001b[0m\n",
      "\u001b[0;31mTypeError\u001b[0m: can only concatenate list (not \"int\") to list"
     ]
    }
   ],
   "source": [
    "for elem in elemList:\n",
    "    for charge in chargeList:\n",
    "        for h in hList:\n",
    "            numberOfEs = elemList.get(elem) + charge + h\n",
    "            l = ligand(elem, h, charge, numberOfEs)\n",
    "            l.numValE\n"
   ]
  },
  {
   "cell_type": "code",
   "execution_count": null,
   "metadata": {},
   "outputs": [],
   "source": []
  },
  {
   "cell_type": "code",
   "execution_count": 23,
   "metadata": {},
   "outputs": [
    {
     "ename": "SyntaxError",
     "evalue": "invalid syntax (<ipython-input-23-b31a06ad6f59>, line 1)",
     "output_type": "error",
     "traceback": [
      "\u001b[0;36m  File \u001b[0;32m\"<ipython-input-23-b31a06ad6f59>\"\u001b[0;36m, line \u001b[0;32m1\u001b[0m\n\u001b[0;31m    conda activate molSimplify\u001b[0m\n\u001b[0m                 ^\u001b[0m\n\u001b[0;31mSyntaxError\u001b[0m\u001b[0;31m:\u001b[0m invalid syntax\n"
     ]
    }
   ],
   "source": [
    "from molSimplify.Classes.mol3D import * #import the mol3D class\n",
    "path = '/Users/adityanandy/Desktop/ni_2_acac_2_ammonia_1_hydroxyl_1_s_2'\n",
    "my_mol = mol3D() #Assign the mol3D class in local frame\n",
    "my_mol.readfromxyz(path) # Look at specified XYZ File\n",
    "metal_ind = my_mol.findMetal()[0] # Obtain index from metal list\n",
    "bonded_atoms = my_mol.getBondedAtoms(metal_ind) #Check what's bonded to that metal\n",
    "metal_coord = my_mol.getAtomCoords(metal_ind)\n",
    "bondlengths = []\n",
    "for i in bonded_atoms:\n",
    "    connect_coord = my_mol.getAtomCoords(i)\n",
    "    dist = distance(metal_coord,connect_coord)\n",
    "    bondlengths.append(dist) #store in list\n",
    "    print('The bond length between the metal and atom '+str(i)+' is '+str(dist)+' Angstrom.')"
   ]
  },
  {
   "cell_type": "code",
   "execution_count": null,
   "metadata": {},
   "outputs": [],
   "source": []
  }
 ],
 "metadata": {
  "kernelspec": {
   "display_name": "Python 3",
   "language": "python",
   "name": "python3"
  },
  "language_info": {
   "codemirror_mode": {
    "name": "ipython",
    "version": 3
   },
   "file_extension": ".py",
   "mimetype": "text/x-python",
   "name": "python",
   "nbconvert_exporter": "python",
   "pygments_lexer": "ipython3",
   "version": "3.6.4"
  }
 },
 "nbformat": 4,
 "nbformat_minor": 2
}
