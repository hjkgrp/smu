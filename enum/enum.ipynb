{
 "cells": [
  {
   "cell_type": "code",
   "execution_count": 2,
   "metadata": {
    "collapsed": true
   },
   "outputs": [],
   "source": [
    "from matplotlib import pyplot as plt\n",
    "import numpy as np\n",
    "import random"
   ]
  },
  {
   "cell_type": "code",
   "execution_count": null,
   "metadata": {
    "collapsed": true
   },
   "outputs": [],
   "source": []
  },
  {
   "cell_type": "code",
   "execution_count": 83,
   "metadata": {
    "collapsed": true
   },
   "outputs": [],
   "source": [
    "# list of elements with name as key and [total electrons, valence electrons, usually used for bonds] as value\n",
    "elemList = {'C':[6,4,4],'N':[7,5,3],'O':[8,6,2],'P':[15,5,3],'S':[16,6,2],'Si':[14,4,4]} # 'Si':[14,4,4],'Cl':[17,7,1]\n",
    "components = \"CNOPSSi\"\n",
    "# number of charges we are sampling through\n",
    "chargeList = range(-2,3)\n",
    "# number of H atoms we are sampling through\n",
    "hList = range(0,5)\n",
    "            \n",
    "class ligand():\n",
    "    def __init__(self, name, numberOfHs, charge):\n",
    "        self.name = name\n",
    "        self.charge = charge\n",
    "        self.numberOfHs = numberOfHs\n",
    "        self.numberOfEs = self.getNumE()\n",
    "        self.getNumE()\n",
    "        \n",
    "    def print_name(self):\n",
    "        print(self.name)\n",
    "    \n",
    "    def print_charge(self):\n",
    "        print(self.charge)\n",
    "    \n",
    "    def print_numberOfHs(self):\n",
    "        print(self.numberOfHs)\n",
    "    \n",
    "    # CHARGES\n",
    "    def setCharge(self,charge):\n",
    "        self.charge = charge\n",
    "        self.getNumE()\n",
    "        \n",
    "    def incrCharge(self):\n",
    "        self.charge += 1\n",
    "        self.getNumE()\n",
    "        \n",
    "    def decrCharge(self):\n",
    "        self.charge -= 1\n",
    "        self.getNumE()\n",
    "        \n",
    "    # HYDROGENS    \n",
    "    def setH(self, number):\n",
    "        self.numberOfHs = number\n",
    "        self.getNumE()\n",
    "    \n",
    "    def addH(self):\n",
    "        self.numberOfHs += 1\n",
    "        self.getNumE()\n",
    "        \n",
    "    def rmH(self):\n",
    "        self.numberOfHs -= 1\n",
    "        self.getNumE()\n",
    "        \n",
    "    def getNumE(self):\n",
    "        self.numLP = int((elemList[self.name][1] - elemList[self.name][2])/2)\n",
    "        self.numValE = elemList[self.name][1]\n",
    "        self.numE = elemList[self.name][0]\n",
    "        mod = self.numberOfHs - self.charge\n",
    "        self.numValE += mod\n",
    "        self.numE += mod\n",
    "        \n",
    "    def getSmiles(self):\n",
    "        \"\"\"Generates a SMILES string. The first row adds hydrogen and the second row charges\"\"\"\n",
    "        self.SMILES =  \"[\" + self.name + \"\".join([\"H\" for i in range(0,self.numberOfHs)]) \n",
    "        self.SMILES += \"\".join([\"+\" if self.charge > 0  else \"-\" for i in range(0,abs(self.charge))]) + \"]\"\n",
    "    \n",
    "    def testOctetRule(self):\n",
    "        \"\"\"Test whether a mono-heavy-atom ligand fulfills the octet rule. Results < 8 means that there are \n",
    "        too many electrons, result > 8 means that there are not enough electrons.\"\"\"\n",
    "        result = 8 - self.numValE\n",
    "        return(result)\n",
    "    \n",
    "    def testValenceShell(self):\n",
    "        \"\"\"Since open shell complexes are difficult to converge in DFT, we restrict ourselves to closed shell ones.\"\"\"\n",
    "        result =  int(not self.numValE%2)\n",
    "        return(result)\n",
    "        \n",
    "    def score(self):\n",
    "        \"\"\"The health score helps to prune the full enumeration by setting open shell ligands to zero and \n",
    "        weights ligands with negative charge more than ligands with positive charge. Greater is better in this\n",
    "        score.\"\"\"\n",
    "        score = (10-(-2*self.testOctetRule() if self.testOctetRule() < 0 else self.testOctetRule())) #*self.testValenceShell() # removed the testValshell bc it is only relevant for the whole ligand\n",
    "        return(score)\n",
    "    \n",
    "    "
   ]
  },
  {
   "cell_type": "code",
   "execution_count": 106,
   "metadata": {},
   "outputs": [],
   "source": [
    "# generate exhaustive output list for mono-ligands\n",
    "outputList = list()\n",
    "for elem in elemList.keys():\n",
    "    for charge in chargeList:\n",
    "        l = ligand(elem, 0, 0)\n",
    "        l.setCharge(charge)\n",
    "        for h in hList:\n",
    "            if h:\n",
    "                l.addH()\n",
    "            l.getSmiles()\n",
    "            outputList.append([l.SMILES,l.numE,l.numValE,l.charge,l.testOctetRule(),l.testValenceShell(),l.score()]) \n"
   ]
  },
  {
   "cell_type": "code",
   "execution_count": 108,
   "metadata": {},
   "outputs": [
    {
     "name": "stdout",
     "output_type": "stream",
     "text": [
      "15625\n",
      "[['[NHH-]', 10, 8, 1, -1, 2, 0, 1, 10, '[CHHH-]', 10, 8, 0, -1, 3, 0, 1, 10], 21.0]\n",
      "[['[NHH-]', 10, 8, 1, -1, 2, 0, 1, 10, '[NHH-]', 10, 8, 1, -1, 2, 0, 1, 10], 21.0]\n",
      "[['[NHH-]', 10, 8, 1, -1, 2, 0, 1, 10, '[OH-]', 10, 8, 2, -1, 1, 0, 1, 10], 21.0]\n",
      "[['[NHH-]', 10, 8, 1, -1, 2, 0, 1, 10, '[PHH-]', 18, 8, 1, -1, 2, 0, 1, 10], 21.0]\n",
      "[['[NHH-]', 10, 8, 1, -1, 2, 0, 1, 10, '[SH-]', 18, 8, 2, -1, 1, 0, 1, 10], 21.0]\n",
      "[['[OH-]', 10, 8, 2, -1, 1, 0, 1, 10, '[CHHH-]', 10, 8, 0, -1, 3, 0, 1, 10], 21.0]\n",
      "[['[OHH]', 10, 8, 2, 0, 2, 0, 1, 10, '[CHHHH]', 10, 8, 0, 0, 4, 0, 1, 10], 21.0]\n",
      "[['[OH-]', 10, 8, 2, -1, 1, 0, 1, 10, '[NHH-]', 10, 8, 1, -1, 2, 0, 1, 10], 21.0]\n",
      "[['[OHH]', 10, 8, 2, 0, 2, 0, 1, 10, '[NHHH]', 10, 8, 1, 0, 3, 0, 1, 10], 21.0]\n",
      "[['[OH-]', 10, 8, 2, -1, 1, 0, 1, 10, '[OH-]', 10, 8, 2, -1, 1, 0, 1, 10], 21.0]\n",
      "[['[OHH]', 10, 8, 2, 0, 2, 0, 1, 10, '[OHH]', 10, 8, 2, 0, 2, 0, 1, 10], 21.0]\n",
      "[['[OH-]', 10, 8, 2, -1, 1, 0, 1, 10, '[PHH-]', 18, 8, 1, -1, 2, 0, 1, 10], 21.0]\n",
      "[['[OHH]', 10, 8, 2, 0, 2, 0, 1, 10, '[PHHH]', 18, 8, 1, 0, 3, 0, 1, 10], 21.0]\n",
      "[['[OH-]', 10, 8, 2, -1, 1, 0, 1, 10, '[SH-]', 18, 8, 2, -1, 1, 0, 1, 10], 21.0]\n",
      "[['[OHH]', 10, 8, 2, 0, 2, 0, 1, 10, '[SHH]', 18, 8, 2, 0, 2, 0, 1, 10], 21.0]\n",
      "[['[PHH-]', 18, 8, 1, -1, 2, 0, 1, 10, '[CHHH-]', 10, 8, 0, -1, 3, 0, 1, 10], 21.0]\n",
      "[['[PHH-]', 18, 8, 1, -1, 2, 0, 1, 10, '[NHH-]', 10, 8, 1, -1, 2, 0, 1, 10], 21.0]\n",
      "[['[PHH-]', 18, 8, 1, -1, 2, 0, 1, 10, '[OH-]', 10, 8, 2, -1, 1, 0, 1, 10], 21.0]\n",
      "[['[PHH-]', 18, 8, 1, -1, 2, 0, 1, 10, '[PHH-]', 18, 8, 1, -1, 2, 0, 1, 10], 21.0]\n",
      "[['[PHH-]', 18, 8, 1, -1, 2, 0, 1, 10, '[SH-]', 18, 8, 2, -1, 1, 0, 1, 10], 21.0]\n",
      "[['[SH-]', 18, 8, 2, -1, 1, 0, 1, 10, '[CHHH-]', 10, 8, 0, -1, 3, 0, 1, 10], 21.0]\n",
      "[['[SHH]', 18, 8, 2, 0, 2, 0, 1, 10, '[CHHHH]', 10, 8, 0, 0, 4, 0, 1, 10], 21.0]\n",
      "[['[SH-]', 18, 8, 2, -1, 1, 0, 1, 10, '[NHH-]', 10, 8, 1, -1, 2, 0, 1, 10], 21.0]\n",
      "[['[SHH]', 18, 8, 2, 0, 2, 0, 1, 10, '[NHHH]', 10, 8, 1, 0, 3, 0, 1, 10], 21.0]\n",
      "[['[SH-]', 18, 8, 2, -1, 1, 0, 1, 10, '[OH-]', 10, 8, 2, -1, 1, 0, 1, 10], 21.0]\n",
      "[['[SHH]', 18, 8, 2, 0, 2, 0, 1, 10, '[OHH]', 10, 8, 2, 0, 2, 0, 1, 10], 21.0]\n",
      "[['[SH-]', 18, 8, 2, -1, 1, 0, 1, 10, '[PHH-]', 18, 8, 1, -1, 2, 0, 1, 10], 21.0]\n",
      "[['[SHH]', 18, 8, 2, 0, 2, 0, 1, 10, '[PHHH]', 18, 8, 1, 0, 3, 0, 1, 10], 21.0]\n",
      "[['[SH-]', 18, 8, 2, -1, 1, 0, 1, 10, '[SH-]', 18, 8, 2, -1, 1, 0, 1, 10], 21.0]\n",
      "[['[SHH]', 18, 8, 2, 0, 2, 0, 1, 10, '[SHH]', 18, 8, 2, 0, 2, 0, 1, 10], 21.0]\n",
      "30\n"
     ]
    },
    {
     "data": {
      "image/png": "[encoded data removed]",
      "text/plain": [
       "<matplotlib.figure.Figure at 0x1f0616bdc88>"
      ]
     },
     "metadata": {},
     "output_type": "display_data"
    }
   ],
   "source": [
    "class dualLigand():\n",
    "    def __init__(self, atom1, atom2):\n",
    "        self.atom1 = atom1 \n",
    "        self.atom2 = atom2 \n",
    "\n",
    "#print([''.join(x) for x in itertools.product('CHNPOS', repeat=2)])\n",
    "\n",
    "# generate exhaustive output list for di-ligands\n",
    "outputListDi = list()\n",
    "for elem1 in elemList.keys():\n",
    "    for elem2 in elemList.keys():\n",
    "        for charge1 in chargeList:\n",
    "            for charge2 in chargeList:\n",
    "                for h1 in hList:\n",
    "                    for h2 in hList: \n",
    "                        l1 = ligand(elem1, 0, 0)\n",
    "                        l1.setCharge(charge1)\n",
    "                        l1.setH(h1)\n",
    "                        l2 = ligand(elem2, 0, 0)\n",
    "                        l2.setCharge(charge2)\n",
    "                        l2.setH(h2)\n",
    "                        \n",
    "                        l1.getSmiles()\n",
    "                        l2.getSmiles()\n",
    "                        \n",
    "                        outputListDi.append([l1.SMILES, \\\n",
    "                                             l1.numE, l1.numValE, l1.numLP, l1.charge, l1.numberOfHs, \\\n",
    "                                             l1.testOctetRule(), l1.testValenceShell(), l1.score(),\\\n",
    "                                             l2.SMILES,\n",
    "                                             l2.numE, l2.numValE, l2.numLP, l2.charge, l2.numberOfHs, \\\n",
    "                                             l2.testOctetRule(), l2.testValenceShell(), l2.score()])\n",
    "\n",
    "print(len(outputListDi))\n",
    "\n",
    "## list that have the same ready electrons (re). re are electrons that are \"unused\" in the valence shell.\n",
    "# reequalList = []\n",
    "# i = 0\n",
    "# for line in outputListDi:\n",
    "#     re1 = line[2]  - 2*line[5]\n",
    "#     re2 = line[11] - 2*line[14] \n",
    "#     if re1 == re2:\n",
    "#         reequalList.append(line)\n",
    "#         i = i+1\n",
    "# print(len(reequalList))\n",
    "\n",
    "## only negatively charged ligands\n",
    "outputListDiNeg = []\n",
    "scoreDiNeg = []\n",
    "for line in outputListDi:\n",
    "    # only consider negatively charged di-heavy-atoms\n",
    "    if line[4] <= 0 or line[13] <= 0:\n",
    "        # higher is better\n",
    "        scoreCharge = 3 if line[4] + line[13] >= -2 else line[4] + line[13] + 4\n",
    "        scoreCharge -= 3 if line[4] + line[13] > 0 else 0\n",
    "\n",
    "        usual1 = line[2] - 2*line[3] + line[4] - 2*line[5]\n",
    "        usual2 = line[11] - 2*line[12] + line[13] - 2*line[14]\n",
    "        scoreVsepr = 5-np.abs(usual1-usual2)\n",
    "        \n",
    "        # THEY ARENT[[since both AB and BA is created, we remove the ones that are A=B]]\n",
    "        # the first atom is the CA and we punish >=3 H on it.\n",
    "        if line[5] == 4:\n",
    "            scoreCa = 1\n",
    "        elif line[5] == 3:\n",
    "            scoreCa = 2\n",
    "        else:\n",
    "            scoreCa = 3\n",
    "        \n",
    "        scoreClosedShell = int(not((line[2]+line[11])%2))\n",
    "\n",
    "        score = (scoreCharge + scoreVsepr + scoreCa + 0.5 * line[8] + 0.5 * line[17])*scoreClosedShell\n",
    "        scoreDiNeg.append(score)\n",
    "        \n",
    "        outputListDiNeg.append([line,score])\n",
    "    else:\n",
    "        continue\n",
    "\n",
    "# gives 5625 (total 15625 * 9/25, since there are 25 comb of [-2,+2], 9 of which contain a pos sign)    \n",
    "\n",
    "# for s in outputListDiNeg:\n",
    "#     print(*s)\n",
    "k=0\n",
    "score = np.zeros(len(outputListDiNeg))\n",
    "for i in range(0, len(outputListDiNeg)):\n",
    "    score[i] = outputListDiNeg[i][1]\n",
    "    if score[i] > 20:\n",
    "        k += 1\n",
    "        print(outputListDiNeg[i])\n",
    "print(k)    \n",
    "\n",
    "plt.xlabel('Score')\n",
    "plt.ylabel('Number of Ligands')\n",
    "plt.title('Histogram of Ligands ['+ components + \"]\")\n",
    "plt.hist(score)\n",
    "plt.savefig('distr_' + components + \".pdf\", bbox_inches='tight')\n",
    "plt.show()"
   ]
  },
  {
   "cell_type": "code",
   "execution_count": null,
   "metadata": {},
   "outputs": [],
   "source": []
  },
  {
   "cell_type": "code",
   "execution_count": 40,
   "metadata": {
    "collapsed": true
   },
   "outputs": [],
   "source": [
    "# create list of isoelectronic ligands and ve-isoelectronig ligands (ligands that have the same amount of VE)\n",
    "isoList = []  \n",
    "veList = []\n",
    "score = []\n",
    "for line in outputList:\n",
    "    isoList.append(line[1]) # unsorted list of the total amount of e\n",
    "    veList.append(line[2]) # unsorted list of the amount of VE\n",
    "    score.append(line[-1])\n",
    "\n",
    "isoLigands = {} # dictionary of ligands with key: number of electrons, values: the whole output\n",
    "d = dict()\n",
    "for i in np.unique(isoList):\n",
    "    d[i] = []\n",
    "\n",
    "for line in outputList:\n",
    "    d[line[1]].append(line)"
   ]
  },
  {
   "cell_type": "code",
   "execution_count": 41,
   "metadata": {},
   "outputs": [
    {
     "data": {
      "image/png": "[encoded data removed]",
      "text/plain": [
       "<matplotlib.figure.Figure at 0x1f0618df278>"
      ]
     },
     "metadata": {},
     "output_type": "display_data"
    }
   ],
   "source": [
    "# plot of score function vs number of total electrons. It seems like the number of electrons determines the score fullz.\n",
    "plt.scatter(isoList, score, s = 5)\n",
    "plt.xlabel('Number of Electrons')\n",
    "plt.ylabel('Score Function')\n",
    "plt.title('Isoelectronic Ligands and their Score ['+ components + \"]\")\n",
    "plt.xticks(np.unique(isoList))\n",
    "plt.savefig('score_iso_ligands_' + components + \".pdf\", bbox_inches='tight')\n",
    "plt.show()\n"
   ]
  },
  {
   "cell_type": "code",
   "execution_count": 73,
   "metadata": {},
   "outputs": [
    {
     "data": {
      "image/png": "[encoded data removed]",
      "text/plain": [
       "<matplotlib.figure.Figure at 0x1f061664978>"
      ]
     },
     "metadata": {},
     "output_type": "display_data"
    }
   ],
   "source": [
    "# plot the number of ligands sorted by the number of electrons (isoelectronic structures)\n",
    "\n",
    "numBins = len(np.unique(isoList))\n",
    "\n",
    "plt.hist(isoList, bins = numBins, facecolor='green')\n",
    "plt.xlabel('Number of Electrons')\n",
    "plt.ylabel('Number of Ligands')\n",
    "plt.title('Histogram of Isoelectronic Ligands ['+ components + \"]\")\n",
    "plt.xticks(np.unique(isoList))\n",
    "# plt.savefig('hist_iso_ligands_' + components + \".pdf\", bbox_inches='tight')\n",
    "plt.show()\n"
   ]
  },
  {
   "cell_type": "code",
   "execution_count": 78,
   "metadata": {},
   "outputs": [
    {
     "data": {
      "image/png": "[encoded data removed]",
      "text/plain": [
       "<matplotlib.figure.Figure at 0x1f0628b5550>"
      ]
     },
     "metadata": {},
     "output_type": "display_data"
    }
   ],
   "source": [
    "# plot the number of ligands sorted by the number of VE (VE-isoelectronic structures)\n",
    "\n",
    "numBins = len(np.unique(veList))\n",
    "\n",
    "plt.hist(veList, bins = numBins, facecolor='green')\n",
    "plt.xlabel('Number of Valence Electrons (VE) ['+ components + \"]\")\n",
    "plt.ylabel('Number of Ligands')\n",
    "plt.title('Histogram of Iso-VE-Ligands ['+ components + \"]\")\n",
    "plt.xticks(np.unique(veList))\n",
    "# plt.savefig('hist_isove_ligands_' + components + \".pdf\", bbox_inches='tight')\n",
    "plt.show()\n"
   ]
  },
  {
   "cell_type": "code",
   "execution_count": null,
   "metadata": {},
   "outputs": [],
   "source": []
  },
  {
   "cell_type": "code",
   "execution_count": null,
   "metadata": {
    "collapsed": true
   },
   "outputs": [],
   "source": []
  },
  {
   "cell_type": "code",
   "execution_count": null,
   "metadata": {
    "collapsed": true
   },
   "outputs": [],
   "source": []
  },
  {
   "cell_type": "code",
   "execution_count": null,
   "metadata": {
    "collapsed": true
   },
   "outputs": [],
   "source": []
  }
 ],
 "metadata": {
  "kernelspec": {
   "display_name": "Python 3",
   "language": "python",
   "name": "python3"
  },
  "language_info": {
   "codemirror_mode": {
    "name": "ipython",
    "version": 3
   },
   "file_extension": ".py",
   "mimetype": "text/x-python",
   "name": "python",
   "nbconvert_exporter": "python",
   "pygments_lexer": "ipython3",
   "version": "3.6.3"
  }
 },
 "nbformat": 4,
 "nbformat_minor": 2
}
