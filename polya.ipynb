{
 "cells": [
  {
   "cell_type": "code",
   "execution_count": 2,
   "metadata": {},
   "outputs": [
    {
     "name": "stdout",
     "output_type": "stream",
     "text": [
      "880.0\n",
      "32970.0\n",
      "12960.0\n",
      "\n",
      "\n",
      "sum: 46810.0\n",
      "exp: 1000000\n",
      "pol: 43450.0\n"
     ]
    },
    {
     "name": "stderr",
     "output_type": "stream",
     "text": [
      "/home/sgugler/anaconda3/lib/python3.6/site-packages/ipykernel_launcher.py:36: RuntimeWarning: divide by zero encountered in log\n",
      "/home/sgugler/anaconda3/lib/python3.6/site-packages/ipykernel_launcher.py:37: RuntimeWarning: divide by zero encountered in log\n"
     ]
    },
    {
     "data": {
      "text/plain": [
       "48270.0"
      ]
     },
     "execution_count": 2,
     "metadata": {},
     "output_type": "execute_result"
    }
   ],
   "source": [
    "from math import factorial\n",
    "from math import log\n",
    "import numpy as np\n",
    "\n",
    "l = 10\n",
    "\n",
    "one = factorial(l)*(\n",
    "    factorial(1)*1/(factorial(l-1)) +\n",
    "    factorial(2)*2/(factorial(l-2)*2) +\n",
    "    factorial(3-1)*(3-1)/(factorial(l-3)*3*2) +\n",
    "    factorial(2-1)*(1+1-1)/(factorial(l-6)*720))\n",
    "\n",
    "two = factorial(l)*(\n",
    "    factorial(2)*2/(factorial(l-2)) +\n",
    "    factorial(1)*1/(factorial(l-2)) +\n",
    "    factorial(2)*(2)/(factorial(l-3)*2) +\n",
    "    factorial(3-1)*(1+2-1)/(factorial(l-4)*3*2) +\n",
    "    factorial(4-1)*(4-1)/(factorial(l-4)*4) +\n",
    "    factorial(3-1)*(1+2-1)/(factorial(l-5)*4*3*2))\n",
    "\n",
    "three = factorial(4-1)*  (4-1) * factorial(l) / (factorial(l-3))\n",
    "\n",
    "print(one)\n",
    "print(two)\n",
    "print(three)\n",
    "\n",
    "print('\\n')\n",
    "print('sum: ' + str((one+two+three)))\n",
    "print('exp: ' + str(l ** 6))\n",
    "print('pol: ' + str(1/24 * (l ** 6 + 3* l **4 + 12 * l ** 3 + 8 * l ** 2)))\n",
    "\n",
    "y1 = []\n",
    "y2 = []\n",
    "x = range(0,20)\n",
    "for i in x:\n",
    "    y1.append(np.log(1/24 * (x[i] ** 6 + 3* x[i] **4 + 12 * x[i] ** 3 + 8 * x[i] ** 2)))\n",
    "    y2.append(np.log(x[i] ** 6))\n",
    "\n",
    "from matplotlib import pyplot as plt\n",
    "\n",
    "plt.plot(x, y1, y2)\n",
    "\n",
    "16090.0*3"
   ]
  },
  {
   "cell_type": "code",
   "execution_count": 92,
   "metadata": {},
   "outputs": [
    {
     "name": "stdout",
     "output_type": "stream",
     "text": [
      "C2\n",
      "500500.0\n",
      "C4\n",
      "511000.0\n",
      "453600\n"
     ]
    }
   ],
   "source": [
    "x = 10\n",
    "print('C2')\n",
    "print(0.5*(x ** 6 + x ** 3))\n",
    "\n",
    "print('C4')\n",
    "print(x ** 2 * 0.5 * (x ** 4 + 2 * x ** 2 + 2 * x))\n",
    "\n",
    "print(10*9*8*7*6*5)"
   ]
  },
  {
   "cell_type": "code",
   "execution_count": 129,
   "metadata": {},
   "outputs": [
    {
     "name": "stdout",
     "output_type": "stream",
     "text": [
      "427.77777777777777\n"
     ]
    }
   ],
   "source": [
    "n_cn = 2\n",
    "n_sigmav = 4\n",
    "n_sigmad = 2\n",
    "\n",
    "n = 4\n",
    "m = 6\n",
    "\n",
    "x = 10\n",
    "\n",
    "prefactor = x ** n_cn / n\n",
    "\n",
    "k = [1,2,4]\n",
    "phi = [1,1,2]\n",
    "\n",
    "summe = 0\n",
    "for i in range(0,3):\n",
    "    summe = summe + phi[i] * x ** ((m - n_cn) / k[i])\n",
    "\n",
    "c2_part1 = prefactor * summe    \n",
    "\n",
    "c2_part2 = 1/4 * (x ** n_sigmav * x ** ((m - n_sigmav) / 2) + x ** n_sigmad * x ** ((m - n_sigmad)/2) )\n",
    "\n",
    "result = 0.5 * c2_part1 + c2_part2\n",
    "print(result/360)\n"
   ]
  },
  {
   "cell_type": "code",
   "execution_count": 137,
   "metadata": {},
   "outputs": [
    {
     "name": "stdout",
     "output_type": "stream",
     "text": [
      "6.0\n"
     ]
    }
   ],
   "source": [
    "x = 2\n",
    "result = 1/16*(2*x**4+6*x**2+4*x**2*x+4*x)\n",
    "\n",
    "print(result)"
   ]
  },
  {
   "cell_type": "code",
   "execution_count": 3,
   "metadata": {},
   "outputs": [],
   "source": [
    "from sympy import *\n",
    "import time\n",
    "\n",
    "init_printing() \n"
   ]
  },
  {
   "cell_type": "code",
   "execution_count": 9,
   "metadata": {},
   "outputs": [
    {
     "name": "stdout",
     "output_type": "stream",
     "text": [
      "\n",
      "For 3 colors, we get 56.0 configurations.\n",
      "\n",
      "1.0*x1**6 + 1.0*x1**5*x2 + 1.0*x1**5*x3 + 2.0*x1**4*x2**2 + 2.0*x1**4*x2*x3 + 2.0*x1**4*x3**2 + 2.0*x1**3*x2**3 + 3.0*x1**3*x2**2*x3 + 3.0*x1**3*x2*x3**2 + 2.0*x1**3*x3**3 + 2.0*x1**2*x2**4 + 3.0*x1**2*x2**3*x3 + 5.0*x1**2*x2**2*x3**2 + 3.0*x1**2*x2*x3**3 + 2.0*x1**2*x3**4 + 1.0*x1*x2**5 + 2.0*x1*x2**4*x3 + 3.0*x1*x2**3*x3**2 + 3.0*x1*x2**2*x3**3 + 2.0*x1*x2*x3**4 + 1.0*x1*x3**5 + 1.0*x2**6 + 1.0*x2**5*x3 + 2.0*x2**4*x3**2 + 2.0*x2**3*x3**3 + 2.0*x2**2*x3**4 + 1.0*x2*x3**5 + 1.0*x3**6\n"
     ]
    }
   ],
   "source": [
    "colors = 4\n",
    "start_time = time.time()\n",
    "\n",
    "sy = ''\n",
    "for i in range(1, colors-1):\n",
    "    sy = sy + ('x' + str(i) + ', ')\n",
    "sy = sy + ('x' + str(colors-1))\n",
    "sy2 = sy.replace(',','')\n",
    "sym_exec = sy + ' = symbols (\\'' + sy2 + '\\')' \n",
    "\n",
    "exec(sym_exec)\n",
    "\n",
    "f1 = 0\n",
    "f2 = 0\n",
    "f3 = 0\n",
    "f4 = 0\n",
    "f5 = 0\n",
    "f6 = 0\n",
    "\n",
    "for i in range(1,colors): # xi  \n",
    "    s1 = 'f1 = f1 + x' + str(i) + '**1'\n",
    "    exec(s1)\n",
    "    s2 = 'f2 = f2 + x' + str(i) + '**2'\n",
    "    exec(s2)\n",
    "    s3 = 'f3 = f3 + x' + str(i) + '**3'\n",
    "    exec(s3)\n",
    "    s4 = 'f4 = f4 + x' + str(i) + '**4'\n",
    "    exec(s4)\n",
    "    s5 = 'f5 = f5 + x' + str(i) + '**5'\n",
    "    exec(s5)\n",
    "    s6 = 'f6 = f6 + x' + str(i) + '**6'\n",
    "    exec(s6)\n",
    "\n",
    "c4v = 1/8 * (f1 ** 5 + 2 * f1 * f4 + 3 * f1 * f2 ** 2 + 2 * f1 ** 3 * f2)\n",
    "d3  = 1/6 * (f1**3 + 3*f1*f2 + 2*f3) \n",
    "c2v = 1/4*(f1**8 + f1**4*f2**2 + 2*f2**4)\n",
    "oh = 1/48 * (f1**6 + 8*f3**2 + 7*f2**3 + 6*f1**2*f4 + 9*f1**2*f2**2 + 8*f6 + 3*f1**4*f2 + 6*f4*f2)\n",
    "\n",
    "\n",
    "result_string = str(expand(oh)).replace(' ','')\n",
    "result_string = result_string.split('+')\n",
    "\n",
    "summe = 0\n",
    "for i in result_string:\n",
    "    summe = summe + float(i.split('*')[0])\n",
    "\n",
    "print('\\nFor ' + str(colors-1) + ' colors, we get ' + str(summe) + ' configurations.\\n')\n",
    "str(time.time() - start_time)\n",
    "\n",
    "print(expand(oh))"
   ]
  }
 ],
 "metadata": {
  "kernelspec": {
   "display_name": "Python 3",
   "language": "python",
   "name": "python3"
  },
  "language_info": {
   "codemirror_mode": {
    "name": "ipython",
    "version": 3
   },
   "file_extension": ".py",
   "mimetype": "text/x-python",
   "name": "python",
   "nbconvert_exporter": "python",
   "pygments_lexer": "ipython3",
   "version": "3.6.4"
  }
 },
 "nbformat": 4,
 "nbformat_minor": 2
}
